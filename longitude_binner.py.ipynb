{
 "cells": [
  {
   "cell_type": "code",
   "execution_count": 23,
   "metadata": {
    "collapsed": true
   },
   "outputs": [],
   "source": [
    "## Enable matplotlib inline\n",
    "%matplotlib inline\n",
    "import matplotlib.pyplot as plt\n",
    "\n",
    "## Imports\n",
    "import pandas as pd\n",
    "pd.set_option('mode.chained_assignment',None)\n",
    "pd.set_option('display.mpl_style', 'default') \n",
    "pd.set_option('display.width', 5000) \n",
    "pd.set_option('display.max_columns', 200)\n",
    "pd.set_option('display.max_rows', 200)\n",
    "\n",
    "import numpy as np"
   ]
  },
  {
   "cell_type": "code",
   "execution_count": 24,
   "metadata": {
    "collapsed": true
   },
   "outputs": [],
   "source": [
    "import math\n",
    "\n",
    "## --------------------------------------------------\n",
    "def haversine(lon1, lat1, lon2, lat2):\n",
    "    \"\"\"\n",
    "    Calculate the great circle distance between two points \n",
    "    on the earth (specified in decimal degrees)\n",
    "    \"\"\"\n",
    "    # convert decimal degrees to radians \n",
    "    lon1, lat1, lon2, lat2 = map(math.radians, [lon1, lat1, lon2, lat2])\n",
    "\n",
    "    # haversine formula \n",
    "    dlon = lon2 - lon1 \n",
    "    dlat = lat2 - lat1 \n",
    "    a = math.sin(dlat/2)**2 + math.cos(lat1) * math.cos(lat2) * math.sin(dlon/2)**2\n",
    "    c = 2 * math.asin(math.sqrt(a)) \n",
    "    r = 6371 # Radius of earth in kilometers. Use 3956 for miles\n",
    "    return c * r"
   ]
  },
  {
   "cell_type": "code",
   "execution_count": 25,
   "metadata": {
    "collapsed": true
   },
   "outputs": [],
   "source": [
    "## --------------------------------------------------\n",
    "def trip_work(trip):\n",
    "    \"\"\"\n",
    "    Calculates the score for a trip\n",
    "    \"\"\"\n",
    "    \n",
    "    work = 0.0\n",
    "    total_weight = 10.0 + trip['Weight'].sum()\n",
    "    lon = 0\n",
    "    lat = 90\n",
    "    \n",
    "    for i, row in trip.iterrows():\n",
    "        current_lon = row['Longitude']\n",
    "        current_lat = row['Latitude']\n",
    "        current_w   = row['Weight']\n",
    "        \n",
    "        distance = haversine(lon, lat, current_lon, current_lat)\n",
    "        work += distance * total_weight\n",
    "        \n",
    "        total_weight -= current_w\n",
    "        lon = current_lon\n",
    "        lat = current_lat\n",
    "        \n",
    "    work += haversine(lon, lat, 0, 90) * 10.0\n",
    "    \n",
    "    return work\n",
    "        "
   ]
  },
  {
   "cell_type": "code",
   "execution_count": 26,
   "metadata": {
    "collapsed": true
   },
   "outputs": [],
   "source": [
    "## --------------------------------------------------\n",
    "def make_trips(df, maxd=1.0):\n",
    "    \"\"\"\n",
    "    Make the trips by longitudinal binning and latitude ordering\n",
    "    \"\"\"\n",
    "    \n",
    "    df = df.sort_values(by='Longitude')\n",
    "    \n",
    "    ## Bin the longitude axis such that every bin sums up to 990 pounds\n",
    "    trip_numbers = []\n",
    "    trip_number = 1\n",
    "    weight = 10.0\n",
    "    longitude = gifts_df['Longitude'].values[0]\n",
    "    max_delta_longitude = maxd\n",
    "\n",
    "    for i, row in df.iterrows():\n",
    "        current_weight = row['Weight']\n",
    "        current_longitude = row['Longitude']\n",
    "        if (weight + current_weight > 1000.0) or (current_longitude - longitude > max_delta_longitude):\n",
    "            trip_number += 1\n",
    "            weight = 10.0 + current_weight\n",
    "            longitude = current_longitude\n",
    "        else:\n",
    "            weight += current_weight\n",
    "        trip_numbers.append((row['GiftId'], trip_number))\n",
    "        \n",
    "    trip_numbers = np.array(trip_numbers, dtype=int)\n",
    "    trip_numbers = pd.DataFrame(trip_numbers, columns=['GiftId', 'TripId'])\n",
    "    \n",
    "    df = pd.merge(df, trip_numbers)\n",
    "    \n",
    "    df = df.sort_values(by=['TripId','Latitude'], ascending=[True,False])\n",
    "    \n",
    "    return df\n",
    "    "
   ]
  },
  {
   "cell_type": "code",
   "execution_count": 27,
   "metadata": {
    "collapsed": true
   },
   "outputs": [],
   "source": [
    "## --------------------------------------------------\n",
    "def score(df):\n",
    "    \"\"\"\n",
    "    Calculates the total score on the entire dataset\n",
    "    \"\"\"\n",
    "    \n",
    "    n = df['TripId'].max()\n",
    "    x = 0\n",
    "    for i in range(1, n+1):\n",
    "        trip = df[df['TripId'] == i]\n",
    "        x += trip_work(trip)\n",
    "    return x, n"
   ]
  },
  {
   "cell_type": "code",
   "execution_count": 44,
   "metadata": {
    "collapsed": true
   },
   "outputs": [],
   "source": [
    "## --------------------------------------------------\n",
    "def partition(df, gap=31, maxd=1.0):\n",
    "    \"\"\"\n",
    "    partition the dataset by ocean gaps\n",
    "    \"\"\"\n",
    "    \n",
    "    partitions = [[]]\n",
    "    \n",
    "    n = df['TripId'].max()\n",
    "\n",
    "    ## Distribute the gifts across the partitions\n",
    "    for i in range(1, n+1):\n",
    "        trip = df[df['TripId'] == i]\n",
    "    \n",
    "        trip['gaps'] = -trip['Latitude'].diff()\n",
    "        n_gaps = len(trip[trip['gaps'] > gap])\n",
    "        n_partitions = len(partitions)-1\n",
    "        \n",
    "        if n_partitions < n_gaps:\n",
    "            for i in range(n_gaps - n_partitions):\n",
    "                partitions.append([])\n",
    "        \n",
    "        region = 0\n",
    "    \n",
    "        for index, row in trip.iterrows():\n",
    "            g = row['gaps']\n",
    "            gift = row['GiftId']\n",
    "            \n",
    "            if g > gap:\n",
    "                region += 1\n",
    "            \n",
    "            partitions[region].append(gift)\n",
    "    \n",
    "    ## Done with the old trip Ids, remove in order to avoid confusion with the new ones\n",
    "    del gifts_df['TripId']\n",
    "    \n",
    "    n_gifts_covered = 0\n",
    "    dfs = []\n",
    "    \n",
    "    ## Put partition masks in the dataframe\n",
    "    for i,p in enumerate(partitions):\n",
    "        df['p{0}'.format(i)] = False\n",
    "        \n",
    "        for g in p:\n",
    "            gi = df[df['GiftId'] == g].index.get_values()[0]\n",
    "            df['p{0}'.format(i)][gi] = True\n",
    "\n",
    "        p_df = df[df['p{0}'.format(i)]]\n",
    "        \n",
    "        ## Make the trips\n",
    "        p_df = make_trips(p_df, maxd=maxd)\n",
    "        p_df['TripId'] = p_df['TripId'] + n_gifts_covered\n",
    "        n_gifts_covered += p_df['TripId'].max()\n",
    "        \n",
    "        dfs.append(p_df)\n",
    "        \n",
    "    return pd.concat(dfs)"
   ]
  },
  {
   "cell_type": "code",
   "execution_count": 45,
   "metadata": {
    "collapsed": true
   },
   "outputs": [],
   "source": [
    "gifts_df = pd.read_csv('gifts.csv')"
   ]
  },
  {
   "cell_type": "code",
   "execution_count": 46,
   "metadata": {
    "collapsed": false
   },
   "outputs": [],
   "source": [
    "gifts_df = make_trips(gifts_df)"
   ]
  },
  {
   "cell_type": "code",
   "execution_count": 47,
   "metadata": {
    "collapsed": false
   },
   "outputs": [],
   "source": [
    "gifts_df = partition(gifts_df, gap=31, maxd=1.0)"
   ]
  },
  {
   "cell_type": "code",
   "execution_count": 49,
   "metadata": {
    "collapsed": false
   },
   "outputs": [
    {
     "name": "stdout",
     "output_type": "stream",
     "text": [
      "Final score: 12558592884.5 in 2874 trips\n"
     ]
    }
   ],
   "source": [
    "## Evaluate final score\n",
    "x,n = score(gifts_df)\n",
    "print 'Final score:', x, 'in', n, 'trips'\n",
    "\n",
    "## To beat:  12541123905.8"
   ]
  },
  {
   "cell_type": "code",
   "execution_count": null,
   "metadata": {
    "collapsed": true
   },
   "outputs": [],
   "source": [
    "from cv2 import imread, cvtColor, COLOR_BGR2RGB\n",
    "\n",
    "\n",
    "## ----------------------------------------------\n",
    "def read_image(path):\n",
    "    \"\"\"\n",
    "    Read an image and convert to RGB using openCV\n",
    "    \"\"\"\n",
    "    img = imread(path)\n",
    "    return cvtColor(img, COLOR_BGR2RGB)"
   ]
  },
  {
   "cell_type": "code",
   "execution_count": null,
   "metadata": {
    "collapsed": true
   },
   "outputs": [],
   "source": [
    "## Make a plot of the trajectories\n",
    "earth = read_image('earth.jpg')"
   ]
  },
  {
   "cell_type": "code",
   "execution_count": null,
   "metadata": {
    "collapsed": true
   },
   "outputs": [],
   "source": [
    "def transform(x,y):\n",
    "    \"\"\"\n",
    "    transform the latitude/longitude coordinates to the coordinates of the image\n",
    "    \"\"\"\n",
    "    \n",
    "    new_x = (x + 180)*(earth.shape[1]/360.0)\n",
    "    new_y = -(y - 90)*(earth.shape[0]/180.0)\n",
    "    \n",
    "    return new_x, new_y"
   ]
  },
  {
   "cell_type": "code",
   "execution_count": null,
   "metadata": {
    "collapsed": false
   },
   "outputs": [],
   "source": [
    "import random\n",
    "from matplotlib import colors\n",
    "\n",
    "c = colors.cnames.keys()\n",
    "\n",
    "fig = plt.figure(frameon=False)\n",
    "fig.set_size_inches(100,50)\n",
    "\n",
    "ax = plt.Axes(fig, [0., 0., 1., 1.])\n",
    "ax.set_axis_off()\n",
    "fig.add_axes(ax)\n",
    "\n",
    "ax.imshow(earth, aspect='normal')\n",
    "\n",
    "n_trips = gifts_df['TripId'].max()\n",
    "for i in range(1, n_trips+1):\n",
    "    trip = gifts_df[gifts_df['TripId'] == i]\n",
    "    \n",
    "    x = trip['Longitude'].values\n",
    "    y = trip['Latitude'].values\n",
    "    \n",
    "    x_, y_ = transform(x,y)\n",
    "    ax.plot(x_,y_,c=random.choice(c))\n",
    "        \n",
    "fig.savefig('trips.png')"
   ]
  },
  {
   "cell_type": "code",
   "execution_count": null,
   "metadata": {
    "collapsed": true
   },
   "outputs": [],
   "source": [
    "trips_df = gifts_df[['GiftId', 'TripId']]\n",
    "trips_df.to_csv('trips.csv', index=False)"
   ]
  },
  {
   "cell_type": "code",
   "execution_count": null,
   "metadata": {
    "collapsed": true
   },
   "outputs": [],
   "source": [
    "## Next I need to figure out an algorithm that exchanges gifts between trips until it finds exchanges that\n",
    "## benefit the overall score"
   ]
  },
  {
   "cell_type": "code",
   "execution_count": null,
   "metadata": {
    "collapsed": false
   },
   "outputs": [],
   "source": [
    "import copy\n",
    "\n",
    "## --------------------------------------------------\n",
    "def optimize_pair(tripA, tripB):\n",
    "    \"\"\"\n",
    "    Try all exchanges between trips, keep the exchanges that reduces the total work\n",
    "    \"\"\"\n",
    "    \n",
    "    total_work = trip_work(tripA) + trip_work(tripB)\n",
    "    \n",
    "    nA = len(tripA)\n",
    "    nB = len(tripB)\n",
    "\n",
    "    for jA, rowA in tripA.iterrows():\n",
    "        for jB, rowB in tripB.iterrows():\n",
    "                \n",
    "            rA = copy.copy(tripA.loc[jA].values)\n",
    "            rB = copy.copy(tripB.loc[jB].values)\n",
    "\n",
    "            tripA.loc[jA] = rB\n",
    "            tripB.loc[jB] = rA\n",
    "            \n",
    "            new_work = trip_work(tripA) + trip_work(tripB)\n",
    "            wA = tripA['Weight'].sum()\n",
    "            wB = tripB['Weight'].sum()\n",
    "        \n",
    "            ## If the new work is better, keep the exchange and change the total work to beat\n",
    "            if new_work < total_work and (wA < 990) and (wB < 990):\n",
    "                total_work = new_work\n",
    "            ## If the new work isn't better, undo the exchange\n",
    "            else:\n",
    "                tripA.loc[jA] = rA\n",
    "                tripB.loc[jB] = rB"
   ]
  },
  {
   "cell_type": "code",
   "execution_count": null,
   "metadata": {
    "collapsed": false
   },
   "outputs": [],
   "source": [
    "import time\n",
    "improvement = 0\n",
    "\n",
    "t = time.time()\n",
    "\n",
    "for i in range(n_trips-1):\n",
    "    iA = i+1\n",
    "    if i==0: iA == n_trips\n",
    "    iB = i+2\n",
    "    \n",
    "    A = gifts_df[gifts_df['TripId'] == iA]\n",
    "    B = gifts_df[gifts_df['TripId'] == iB]\n",
    "    \n",
    "    before = trip_work(A) + trip_work(B)\n",
    "    \n",
    "    optimize_pair(A,B)\n",
    "    \n",
    "    after = trip_work(A) + trip_work(B)\n",
    "    \n",
    "    improvement += before-after\n",
    "    \n",
    "    A['TripId'] = iA\n",
    "    B['TripId'] = iB\n",
    "    \n",
    "    gifts_df[gifts_df['TripId'] == iA] = A\n",
    "    gifts_df[gifts_df['TripId'] == iB] = B\n",
    "    \n",
    "    current_time = time.time()\n",
    "    print i+1, 'Cumulative improvement:', improvement, 'dt:', current_time - t\n",
    "    t = time.time()\n",
    "    "
   ]
  },
  {
   "cell_type": "code",
   "execution_count": null,
   "metadata": {
    "collapsed": true
   },
   "outputs": [],
   "source": []
  }
 ],
 "metadata": {
  "kernelspec": {
   "display_name": "Python 2",
   "language": "python",
   "name": "python2"
  },
  "language_info": {
   "codemirror_mode": {
    "name": "ipython",
    "version": 2
   },
   "file_extension": ".py",
   "mimetype": "text/x-python",
   "name": "python",
   "nbconvert_exporter": "python",
   "pygments_lexer": "ipython2",
   "version": "2.7.10"
  }
 },
 "nbformat": 4,
 "nbformat_minor": 0
}
