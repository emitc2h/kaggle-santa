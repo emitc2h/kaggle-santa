{
 "cells": [
  {
   "cell_type": "markdown",
   "metadata": {},
   "source": [
    "# 1 - Preparation"
   ]
  },
  {
   "cell_type": "code",
   "execution_count": 56,
   "metadata": {
    "collapsed": true
   },
   "outputs": [],
   "source": [
    "## Enable matplotlib inline\n",
    "%matplotlib inline\n",
    "import matplotlib.pyplot as plt\n",
    "\n",
    "## Imports\n",
    "import pandas as pd\n",
    "pd.set_option('mode.chained_assignment',None)\n",
    "pd.set_option('display.mpl_style', 'default') \n",
    "pd.set_option('display.width', 5000) \n",
    "pd.set_option('display.max_columns', 200)\n",
    "pd.set_option('display.max_rows', 200)\n",
    "\n",
    "import numpy as np\n",
    "from sklearn.cluster import DBSCAN"
   ]
  },
  {
   "cell_type": "markdown",
   "metadata": {},
   "source": [
    "## 2.1 - Define functions"
   ]
  },
  {
   "cell_type": "code",
   "execution_count": 57,
   "metadata": {
    "collapsed": true
   },
   "outputs": [],
   "source": [
    "import math\n",
    "\n",
    "## --------------------------------------------------\n",
    "def haversine(lon1, lat1, lon2, lat2):\n",
    "    \"\"\"\n",
    "    Calculate the great circle distance between two points \n",
    "    on the earth (specified in decimal degrees)\n",
    "    \n",
    "    sklearn implementation\n",
    "    2 arcsin(sqrt(sin^2(0.5*dx)cos(x1)cos(x2)sin^2(0.5*dy)))\n",
    "    \n",
    "    \n",
    "    \"\"\"\n",
    "    # convert decimal degrees to radians \n",
    "    lon1, lat1, lon2, lat2 = map(math.radians, [lon1, lat1, lon2, lat2])\n",
    "\n",
    "    # haversine formula \n",
    "    dlon = lon2 - lon1 \n",
    "    dlat = lat2 - lat1 \n",
    "    a = math.sin(dlat/2)**2 + math.cos(lat1) * math.cos(lat2) * math.sin(dlon/2)**2\n",
    "    c = 2 * math.asin(math.sqrt(a)) \n",
    "    r = 6371 # Radius of earth in kilometers. Use 3956 for miles\n",
    "    return c * r"
   ]
  },
  {
   "cell_type": "code",
   "execution_count": 58,
   "metadata": {
    "collapsed": true
   },
   "outputs": [],
   "source": [
    "## --------------------------------------------------\n",
    "def trip_work(trip):\n",
    "    \"\"\"\n",
    "    Calculates the score for a trip\n",
    "    \"\"\"\n",
    "    \n",
    "    work = 0.0\n",
    "    total_weight = 10.0 + trip['Weight'].sum()\n",
    "    lon = 0\n",
    "    lat = 90\n",
    "    \n",
    "    for i, row in trip.iterrows():\n",
    "        current_lon = row['Longitude']\n",
    "        current_lat = row['Latitude']\n",
    "        current_w   = row['Weight']\n",
    "        \n",
    "        distance = haversine(lon, lat, current_lon, current_lat)\n",
    "        work += distance * total_weight\n",
    "        \n",
    "        total_weight -= current_w\n",
    "        lon = current_lon\n",
    "        lat = current_lat\n",
    "        \n",
    "    work += haversine(lon, lat, 0, 90) * 10.0\n",
    "    \n",
    "    return work\n",
    "        "
   ]
  },
  {
   "cell_type": "code",
   "execution_count": 59,
   "metadata": {
    "collapsed": true
   },
   "outputs": [],
   "source": [
    "## --------------------------------------------------\n",
    "def make_trips(df, maxd=1.0):\n",
    "    \"\"\"\n",
    "    Make the trips by longitudinal binning and latitude ordering\n",
    "    \"\"\"\n",
    "    \n",
    "    df = df.sort_values(by='Longitude')\n",
    "    \n",
    "    ## Bin the longitude axis such that every bin sums up to 990 pounds\n",
    "    trip_numbers = []\n",
    "    trip_number = 1\n",
    "    weight = 10.0\n",
    "    longitude = gifts_df['Longitude'].values[0]\n",
    "    max_delta_longitude = maxd\n",
    "\n",
    "    for i, row in df.iterrows():\n",
    "        current_weight = row['Weight']\n",
    "        current_longitude = row['Longitude']\n",
    "        if (weight + current_weight > 1000.0) or (current_longitude - longitude > max_delta_longitude):\n",
    "            trip_number += 1\n",
    "            weight = 10.0 + current_weight\n",
    "            longitude = current_longitude\n",
    "        else:\n",
    "            weight += current_weight\n",
    "        trip_numbers.append((row['GiftId'], trip_number))\n",
    "        \n",
    "    trip_numbers = np.array(trip_numbers, dtype=int)\n",
    "    trip_numbers = pd.DataFrame(trip_numbers, columns=['GiftId', 'TripId'])\n",
    "    \n",
    "    df = pd.merge(df, trip_numbers)\n",
    "    \n",
    "    df = df.sort_values(by=['TripId','Latitude'], ascending=[True,False])\n",
    "    \n",
    "    return df"
   ]
  },
  {
   "cell_type": "code",
   "execution_count": 60,
   "metadata": {
    "collapsed": true
   },
   "outputs": [],
   "source": [
    "## --------------------------------------------------\n",
    "def score(df):\n",
    "    \"\"\"\n",
    "    Calculates the total score on the entire dataset\n",
    "    \"\"\"\n",
    "    \n",
    "    n = df['TripId'].max()\n",
    "    x = 0\n",
    "    for i in range(1, n+1):\n",
    "        trip = df[df['TripId'] == i]\n",
    "        x += trip_work(trip)\n",
    "    return x, n"
   ]
  },
  {
   "cell_type": "markdown",
   "metadata": {},
   "source": [
    "# 2 - Load"
   ]
  },
  {
   "cell_type": "code",
   "execution_count": 61,
   "metadata": {
    "collapsed": true
   },
   "outputs": [],
   "source": [
    "## Load data\n",
    "gifts_df = pd.read_csv('gifts.csv')\n",
    "\n",
    "## Convert longitude and latitude to radians in new columns\n",
    "gifts_df['lon_rad'] = np.deg2rad(gifts_df['Longitude'].values)\n",
    "gifts_df['lat_rad'] = np.deg2rad(gifts_df['Latitude'].values)"
   ]
  },
  {
   "cell_type": "markdown",
   "metadata": {},
   "source": [
    "# 2 - Clustering"
   ]
  },
  {
   "cell_type": "code",
   "execution_count": 62,
   "metadata": {
    "collapsed": false
   },
   "outputs": [],
   "source": [
    "## Frame the DBSCAN parameters in terms of the problem\n",
    "earth_radius = 6371.0   # km\n",
    "minimum_distance = 200.0 # km\n",
    "eps = minimum_distance/earth_radius\n",
    "\n",
    "## Do the clustering\n",
    "clustering = DBSCAN(eps=eps, min_samples=50, metric='haversine')\n",
    "gifts_df['cluster'] = clustering.fit_predict(gifts_df[['lat_rad', 'lon_rad']].values)"
   ]
  },
  {
   "cell_type": "code",
   "execution_count": 63,
   "metadata": {
    "collapsed": false
   },
   "outputs": [],
   "source": [
    "# from cv2 import imread, cvtColor, COLOR_BGR2RGB\n",
    "\n",
    "# ## ----------------------------------------------\n",
    "# def read_image(path):\n",
    "#     \"\"\"\n",
    "#     Read an image and convert to RGB using openCV\n",
    "#     \"\"\"\n",
    "#     img = imread(path)\n",
    "#     return cvtColor(img, COLOR_BGR2RGB)\n",
    "\n",
    "# ## ----------------------------------------------\n",
    "# def transform(x,y):\n",
    "#     \"\"\"\n",
    "#     transform the latitude/longitude coordinates to the coordinates of the image\n",
    "#     \"\"\"\n",
    "    \n",
    "#     new_x = (x + 180)*(earth.shape[1]/360.0)\n",
    "#     new_y = -(y - 90)*(earth.shape[0]/180.0)\n",
    "    \n",
    "#     return new_x, new_y\n",
    "\n",
    "# ## Load earth background\n",
    "# earth = read_image('earth.jpg')\n",
    "\n",
    "# ## Get gift data from dataframe\n",
    "# x = gifts_df['Longitude'].values\n",
    "# y = gifts_df['Latitude'].values\n",
    "# w = gifts_df['Weight'].values\n",
    "# c = gifts_df['cluster'].values % 50\n",
    "\n",
    "# x_, y_ = transform(x,y)\n",
    "\n",
    "# plt.figure(figsize=(50,25))\n",
    "# plt.imshow(earth)\n",
    "# plt.scatter(x_, y_, s=w, c=c)"
   ]
  },
  {
   "cell_type": "markdown",
   "metadata": {},
   "source": [
    "# 3 - Longitudinal binning"
   ]
  },
  {
   "cell_type": "code",
   "execution_count": 64,
   "metadata": {
    "collapsed": false
   },
   "outputs": [],
   "source": [
    "n_clusters = gifts_df['cluster'].max()\n",
    "\n",
    "clusters = []\n",
    "n_gifts_covered = 0\n",
    "\n",
    "## Partition the dataframe in clusters\n",
    "for i in range(n_clusters):\n",
    "    cluster = gifts_df[gifts_df['cluster'] == i]\n",
    "    cluster = make_trips(cluster, maxd=360.0)\n",
    "    cluster['TripId'] = cluster['TripId'] + n_gifts_covered\n",
    "    n_gifts_covered = cluster['TripId'].max()\n",
    "    clusters.append(cluster)\n",
    "    \n",
    "gifts_df = pd.concat(clusters)"
   ]
  },
  {
   "cell_type": "code",
   "execution_count": 65,
   "metadata": {
    "collapsed": false
   },
   "outputs": [
    {
     "name": "stdout",
     "output_type": "stream",
     "text": [
      "Final score: 12415954406.0 in 1431 trips\n"
     ]
    }
   ],
   "source": [
    "## Evaluate final score\n",
    "x,n = score(gifts_df)\n",
    "print 'Final score:', x, 'in', n, 'trips'"
   ]
  },
  {
   "cell_type": "code",
   "execution_count": 66,
   "metadata": {
    "collapsed": false
   },
   "outputs": [],
   "source": [
    "# import random\n",
    "# from matplotlib import colors\n",
    "\n",
    "# c = colors.cnames.keys()\n",
    "\n",
    "# fig = plt.figure(frameon=False)\n",
    "# fig.set_size_inches(80,40)\n",
    "\n",
    "# ax = plt.Axes(fig, [0., 0., 1., 1.])\n",
    "# ax.set_axis_off()\n",
    "# fig.add_axes(ax)\n",
    "\n",
    "# ax.imshow(earth, aspect='auto')\n",
    "\n",
    "# n_trips = gifts_df['TripId'].max()\n",
    "# for i in range(1, n_trips+1):\n",
    "#     trip = gifts_df[gifts_df['TripId'] == i]\n",
    "    \n",
    "#     x = trip['Longitude'].values\n",
    "#     y = trip['Latitude'].values\n",
    "    \n",
    "#     x_, y_ = transform(x,y)\n",
    "#     ax.plot(x_,y_,c=random.choice(c))\n",
    "        \n",
    "# fig.savefig('trips.png')"
   ]
  },
  {
   "cell_type": "code",
   "execution_count": null,
   "metadata": {
    "collapsed": true
   },
   "outputs": [],
   "source": [
    "trips_df = gifts_df[['GiftId', 'TripId']]\n",
    "trips_df.to_csv('trips.csv', index=False)"
   ]
  }
 ],
 "metadata": {
  "kernelspec": {
   "display_name": "Python 2",
   "language": "python",
   "name": "python2"
  },
  "language_info": {
   "codemirror_mode": {
    "name": "ipython",
    "version": 2
   },
   "file_extension": ".py",
   "mimetype": "text/x-python",
   "name": "python",
   "nbconvert_exporter": "python",
   "pygments_lexer": "ipython2",
   "version": "2.7.10"
  }
 },
 "nbformat": 4,
 "nbformat_minor": 0
}
