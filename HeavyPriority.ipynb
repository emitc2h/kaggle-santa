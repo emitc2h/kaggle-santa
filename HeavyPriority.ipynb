{
 "cells": [
  {
   "cell_type": "code",
   "execution_count": 1,
   "metadata": {
    "collapsed": false
   },
   "outputs": [],
   "source": [
    "## Enable matplotlib inline\n",
    "%matplotlib inline\n",
    "import matplotlib.pyplot as plt\n",
    "\n",
    "## Imports\n",
    "import pandas as pd\n",
    "pd.set_option('mode.chained_assignment',None)\n",
    "pd.set_option('display.mpl_style', 'default') \n",
    "pd.set_option('display.width', 5000) \n",
    "pd.set_option('display.max_columns', 200)\n",
    "pd.set_option('display.max_rows', 200)\n",
    "\n",
    "import numpy as np"
   ]
  },
  {
   "cell_type": "code",
   "execution_count": 2,
   "metadata": {
    "collapsed": true
   },
   "outputs": [],
   "source": [
    "gifts_df = pd.read_csv('gifts.csv')"
   ]
  },
  {
   "cell_type": "code",
   "execution_count": 3,
   "metadata": {
    "collapsed": false
   },
   "outputs": [],
   "source": [
    "import math\n",
    "\n",
    "## --------------------------------------------------\n",
    "def haversine(lon1, lat1, lon2, lat2):\n",
    "    \"\"\"\n",
    "    Calculate the great circle distance between two points \n",
    "    on the earth (specified in decimal degrees)\n",
    "    \n",
    "    sklearn implementation\n",
    "    2 arcsin(sqrt(sin^2(0.5*dx)cos(x1)cos(x2)sin^2(0.5*dy)))\n",
    "    \n",
    "    \n",
    "    \"\"\"\n",
    "    # convert decimal degrees to radians \n",
    "    lon1, lat1, lon2, lat2 = map(math.radians, [lon1, lat1, lon2, lat2])\n",
    "\n",
    "    # haversine formula \n",
    "    dlon = lon2 - lon1 \n",
    "    dlat = lat2 - lat1 \n",
    "    a = math.sin(dlat/2)**2 + math.cos(lat1) * math.cos(lat2) * math.sin(dlon/2)**2\n",
    "    c = 2 * math.asin(math.sqrt(a)) \n",
    "    r = 6371 # Radius of earth in kilometers. Use 3956 for miles\n",
    "    return c * r"
   ]
  },
  {
   "cell_type": "code",
   "execution_count": 4,
   "metadata": {
    "collapsed": true
   },
   "outputs": [],
   "source": [
    "## --------------------------------------------------\n",
    "def trip_work(trip):\n",
    "    \"\"\"\n",
    "    Calculates the score for a trip\n",
    "    \"\"\"\n",
    "    \n",
    "    work = 0.0\n",
    "    total_weight = 10.0 + trip['Weight'].sum()\n",
    "    lon = 0\n",
    "    lat = 90\n",
    "    \n",
    "    for i, row in trip.iterrows():\n",
    "        current_lon = row['Longitude']\n",
    "        current_lat = row['Latitude']\n",
    "        current_w   = row['Weight']\n",
    "        \n",
    "        distance = haversine(lon, lat, current_lon, current_lat)\n",
    "        work += distance * total_weight\n",
    "        \n",
    "        total_weight -= current_w\n",
    "        lon = current_lon\n",
    "        lat = current_lat\n",
    "        \n",
    "    work += haversine(lon, lat, 0, 90) * 10.0\n",
    "    \n",
    "    return work"
   ]
  },
  {
   "cell_type": "code",
   "execution_count": 5,
   "metadata": {
    "collapsed": true
   },
   "outputs": [],
   "source": [
    "## --------------------------------------------------\n",
    "def score(df):\n",
    "    \"\"\"\n",
    "    Calculates the total score on the entire dataset\n",
    "    \"\"\"\n",
    "    \n",
    "    n = df['TripId'].max()\n",
    "    x = 0\n",
    "    for i in range(1, n+1):\n",
    "        trip = df[df['TripId'] == i]\n",
    "        x += trip_work(trip)\n",
    "    return x, n"
   ]
  },
  {
   "cell_type": "code",
   "execution_count": 6,
   "metadata": {
    "collapsed": true
   },
   "outputs": [],
   "source": [
    "## --------------------------------------------------\n",
    "def dlon(lon1, lon2):\n",
    "    \"\"\"\n",
    "    Calculates the difference between longitudes\n",
    "    \"\"\"\n",
    "    \n",
    "    lon1 = np.radians(lon1)\n",
    "    lon2 = np.radians(lon2)\n",
    "    \n",
    "    return np.degrees(np.fabs(np.arctan2(np.sin(lon2 - lon1), np.cos(lon2 - lon1))))"
   ]
  },
  {
   "cell_type": "code",
   "execution_count": 7,
   "metadata": {
    "collapsed": true
   },
   "outputs": [],
   "source": [
    "gifts_df['NPlon'] = 0\n",
    "gifts_df['NPlat'] = 90\n",
    "gifts_df['Cost'] = gifts_df['Weight'] * map(haversine, gifts_df['NPlon'], gifts_df['NPlat'], gifts_df['Longitude'], gifts_df['Latitude'])"
   ]
  },
  {
   "cell_type": "code",
   "execution_count": null,
   "metadata": {
    "collapsed": false
   },
   "outputs": [],
   "source": [
    "gifts_df = gifts_df.sort_values(by='Cost', ascending=False)\n",
    "del gifts_df['NPlon']\n",
    "del gifts_df['NPlat']"
   ]
  },
  {
   "cell_type": "code",
   "execution_count": null,
   "metadata": {
    "collapsed": false,
    "scrolled": false
   },
   "outputs": [
    {
     "name": "stdout",
     "output_type": "stream",
     "text": [
      "Working on trip # 1\n",
      "99998\n",
      "99997\n",
      "99996\n",
      "99995\n",
      "99994\n",
      "99993\n",
      "99992\n",
      "99991\n",
      "99990"
     ]
    }
   ],
   "source": [
    "import time\n",
    "\n",
    "trip_number = 1\n",
    "trips = []\n",
    "\n",
    "gifts = gifts_df[:]\n",
    "\n",
    "while len(gifts):\n",
    "\n",
    "    t0 = time.time()\n",
    "    \n",
    "    print 'Working on trip #', trip_number\n",
    "    \n",
    "    trip  = gifts[:1]\n",
    "    gifts = gifts[1:]\n",
    "    \n",
    "    central_longitude = trip['Longitude'].values[0]\n",
    "    \n",
    "    search_zone = gifts[dlon(central_longitude, gifts['Longitude'].values) < 1.0]\n",
    "    \n",
    "    while trip['Weight'].sum() < 990.0 and len(search_zone):\n",
    "        \n",
    "        n = len(trip)\n",
    "        trip['order'] = np.arange(1,n+1)\n",
    "        inserts = [i+0.5 for i in xrange(n+1)]\n",
    "        \n",
    "        best_work = float('inf')\n",
    "        best_trip = None\n",
    "        best_gift = None\n",
    "        \n",
    "        for index, row in search_zone.iterrows():\n",
    "            \n",
    "            row_df = row.to_frame().transpose()\n",
    "    \n",
    "            for k in inserts:\n",
    "                row_df['order'] = k\n",
    "                test_trip = pd.concat([trip, row_df])\n",
    "                test_trip = test_trip.sort_values(by='order')\n",
    "                work = trip_work(test_trip) - test_trip['Cost'].sum()\n",
    "                if work < best_work:\n",
    "                    best_work = work\n",
    "                    best_trip = test_trip\n",
    "                    best_gift = int(row['GiftId'])\n",
    "                    \n",
    "        trip = best_trip\n",
    "        gifts = gifts[gifts['GiftId'] != best_gift]\n",
    "        search_zone = search_zone[search_zone['GiftId'] != best_gift]\n",
    "        \n",
    "        print len(gifts)\n",
    "        \n",
    "    trip['TripId'] = trip_number\n",
    "    trips.append(trip)\n",
    "    trip_number += 1\n",
    "    \n",
    "    t1 = time.time()\n",
    "    print 'Time to complete trip:', t1-t0\n",
    "    \n",
    "    \n",
    "    \n",
    "        "
   ]
  },
  {
   "cell_type": "code",
   "execution_count": null,
   "metadata": {
    "collapsed": true
   },
   "outputs": [],
   "source": []
  }
 ],
 "metadata": {
  "kernelspec": {
   "display_name": "Python 2",
   "language": "python",
   "name": "python2"
  },
  "language_info": {
   "codemirror_mode": {
    "name": "ipython",
    "version": 2
   },
   "file_extension": ".py",
   "mimetype": "text/x-python",
   "name": "python",
   "nbconvert_exporter": "python",
   "pygments_lexer": "ipython2",
   "version": "2.7.10"
  }
 },
 "nbformat": 4,
 "nbformat_minor": 0
}
